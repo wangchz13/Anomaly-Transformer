{
 "cells": [
  {
   "cell_type": "code",
   "execution_count": 10,
   "metadata": {},
   "outputs": [],
   "source": [
    "import torch\n",
    "import torch.nn.functional as F\n",
    "def my_kl_loss(p, q):\n",
    "    res = p * (torch.log(p + 0.0001) - torch.log(q + 0.0001))\n",
    "    return torch.mean(torch.sum(res, dim=-1))"
   ]
  },
  {
   "cell_type": "code",
   "execution_count": 21,
   "metadata": {},
   "outputs": [
    {
     "name": "stdout",
     "output_type": "stream",
     "text": [
      "tensor([0.0132, 0.2654, 0.7214])\n"
     ]
    },
    {
     "data": {
      "text/plain": [
       "tensor(1.4704)"
      ]
     },
     "execution_count": 21,
     "metadata": {},
     "output_type": "execute_result"
    }
   ],
   "source": [
    "p = F.softmax(torch.tensor([-1.0, 2.0, 3.0]), dim=-1)\n",
    "print(p)\n",
    "q = F.softmax(torch.tensor([3.0, 2.0, 1]), dim=-1)\n",
    "my_kl_loss(p,q)"
   ]
  },
  {
   "cell_type": "code",
   "execution_count": 22,
   "metadata": {},
   "outputs": [
    {
     "data": {
      "text/plain": [
       "True"
      ]
     },
     "execution_count": 22,
     "metadata": {},
     "output_type": "execute_result"
    }
   ],
   "source": [
    "torch.cuda.is_available()"
   ]
  },
  {
   "cell_type": "code",
   "execution_count": 23,
   "metadata": {},
   "outputs": [
    {
     "name": "stdout",
     "output_type": "stream",
     "text": [
      "First backward:\n",
      "Gradient of x: tensor([4.])\n",
      "\n",
      "Second backward:\n",
      "Gradient of x: tensor([8.])\n"
     ]
    }
   ],
   "source": [
    "import torch\n",
    "\n",
    "# 创建一个简单的计算图\n",
    "x = torch.tensor([2.0], requires_grad=True)\n",
    "y = x**2\n",
    "z = y + 3\n",
    "\n",
    "# 计算梯度并进行反向传播\n",
    "loss = z.sum()\n",
    "loss.backward(retain_graph=True)\n",
    "\n",
    "# 输出梯度\n",
    "print(\"First backward:\")\n",
    "print(\"Gradient of x:\", x.grad)\n",
    "\n",
    "# 再次进行反向传播，保留计算图\n",
    "loss.backward(retain_graph=True)\n",
    "\n",
    "# 输出梯度\n",
    "print(\"\\nSecond backward:\")\n",
    "print(\"Gradient of x:\", x.grad)\n"
   ]
  }
 ],
 "metadata": {
  "kernelspec": {
   "display_name": "AnomalyBERT",
   "language": "python",
   "name": "python3"
  },
  "language_info": {
   "codemirror_mode": {
    "name": "ipython",
    "version": 3
   },
   "file_extension": ".py",
   "mimetype": "text/x-python",
   "name": "python",
   "nbconvert_exporter": "python",
   "pygments_lexer": "ipython3",
   "version": "3.10.9"
  }
 },
 "nbformat": 4,
 "nbformat_minor": 2
}
